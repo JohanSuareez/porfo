{
 "cells": [
  {
   "cell_type": "code",
   "execution_count": 9,
   "id": "16071d20",
   "metadata": {},
   "outputs": [],
   "source": [
    " from sklearn.datasets import load_iris\n",
    "iris=load_iris()"
   ]
  },
  {
   "cell_type": "code",
   "execution_count": 10,
   "id": "9c7f33e5",
   "metadata": {},
   "outputs": [
    {
     "data": {
      "text/plain": [
       "array(['setosa', 'versicolor', 'virginica'], dtype='<U10')"
      ]
     },
     "execution_count": 10,
     "metadata": {},
     "output_type": "execute_result"
    }
   ],
   "source": [
    "X=iris.data\n",
    "y= iris.target\n",
    "feature_names=iris.feature_names\n",
    "target_names= iris.target_names\n",
    "target_names"
   ]
  },
  {
   "cell_type": "code",
   "execution_count": 11,
   "id": "9cd10f5e",
   "metadata": {},
   "outputs": [
    {
     "name": "stdout",
     "output_type": "stream",
     "text": [
      "(135, 4)\n",
      "(15, 4)\n"
     ]
    }
   ],
   "source": [
    "from sklearn.model_selection import train_test_split\n",
    "X_train,X_test,y_train,y_test= train_test_split(X,y, test_size=0.1)\n",
    "print(X_train.shape)\n",
    "print(X_test.shape)"
   ]
  },
  {
   "cell_type": "code",
   "execution_count": 12,
   "id": "a3bca954",
   "metadata": {},
   "outputs": [],
   "source": [
    "from sklearn.neighbors import KNeighborsClassifier\n",
    "kn= KNeighborsClassifier(n_neighbors=3)\n",
    "kn.fit(X_train, y_train)\n",
    "y_predc= kn.predict(X_test)"
   ]
  },
  {
   "cell_type": "code",
   "execution_count": 13,
   "id": "593669b1",
   "metadata": {},
   "outputs": [
    {
     "name": "stdout",
     "output_type": "stream",
     "text": [
      "0.9333333333333333\n"
     ]
    }
   ],
   "source": [
    "from sklearn import metrics\n",
    "print(metrics.accuracy_score(y_test, y_predc))"
   ]
  },
  {
   "cell_type": "code",
   "execution_count": 14,
   "id": "62afd0dd",
   "metadata": {},
   "outputs": [
    {
     "name": "stdout",
     "output_type": "stream",
     "text": [
      "Predictions ['virginica', 'versicolor']\n"
     ]
    }
   ],
   "source": [
    "sample=[[3,2,4,5],[3,4,2,6]]\n",
    "predictions= kn.predict(sample)\n",
    "pred_species=[iris.target_names[p]for p in predictions]\n",
    "print('Predictions', pred_species)"
   ]
  },
  {
   "cell_type": "code",
   "execution_count": 15,
   "id": "79778a76",
   "metadata": {},
   "outputs": [
    {
     "data": {
      "text/plain": [
       "['mlbrain.joblib']"
      ]
     },
     "execution_count": 15,
     "metadata": {},
     "output_type": "execute_result"
    }
   ],
   "source": [
    "from joblib import dump, load\n",
    "dump(kn,'mlbrain.joblib')"
   ]
  },
  {
   "cell_type": "code",
   "execution_count": 16,
   "id": "3f9768a6",
   "metadata": {},
   "outputs": [
    {
     "name": "stdout",
     "output_type": "stream",
     "text": [
      "Predictions ['virginica', 'versicolor']\n"
     ]
    }
   ],
   "source": [
    "model= load('mlbrain.joblib')\n",
    "sample=[[3,2,4,5],[3,4,2,6]]\n",
    "predictions= model.predict(sample)\n",
    "pred_species=[iris.target_names[p]for p in predictions]\n",
    "print('Predictions', pred_species)\n"
   ]
  },
  {
   "cell_type": "code",
   "execution_count": null,
   "id": "f00d9f48",
   "metadata": {},
   "outputs": [],
   "source": []
  }
 ],
 "metadata": {
  "kernelspec": {
   "display_name": "Python 3 (ipykernel)",
   "language": "python",
   "name": "python3"
  },
  "language_info": {
   "codemirror_mode": {
    "name": "ipython",
    "version": 3
   },
   "file_extension": ".py",
   "mimetype": "text/x-python",
   "name": "python",
   "nbconvert_exporter": "python",
   "pygments_lexer": "ipython3",
   "version": "3.11.5"
  }
 },
 "nbformat": 4,
 "nbformat_minor": 5
}
